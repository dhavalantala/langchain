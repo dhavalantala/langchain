{
 "cells": [
  {
   "cell_type": "markdown",
   "metadata": {},
   "source": [
    "- OpenAI's embedding model has 1536 dimensions.\n",
    "- After the data is turned into embeddings, they are stored in a vectorstore database, such as Pinecone, Chroma and Faiss, etc.\n",
    "- Once the query is provided, the most relevant chunks of data is queried based on the similarity (semantic search)"
   ]
  },
  {
   "cell_type": "code",
   "execution_count": 1,
   "metadata": {},
   "outputs": [],
   "source": [
    "import os \n",
    "from dotenv import load_dotenv\n",
    "\n",
    "from langchain_text_splitters import CharacterTextSplitter\n",
    "from langchain.vectorstores import Pinecone, Chroma\n",
    "from langchain.embeddings.openai import OpenAIEmbeddings\n",
    "from langchain.chains import ConversationalRetrievalChain\n",
    "from langchain.chat_models import ChatOpenAI"
   ]
  },
  {
   "cell_type": "code",
   "execution_count": 2,
   "metadata": {},
   "outputs": [],
   "source": [
    "OPENAI_API_KEY = os.getenv(\"OPENAI_API_KEY\")"
   ]
  },
  {
   "cell_type": "code",
   "execution_count": 39,
   "metadata": {},
   "outputs": [
    {
     "name": "stderr",
     "output_type": "stream",
     "text": [
      "/Users/dhavalantala/Desktop/langchain/langchainvenv/lib/python3.10/site-packages/langchain_core/_api/deprecation.py:139: LangChainDeprecationWarning: The class `ChatOpenAI` was deprecated in LangChain 0.0.10 and will be removed in 0.3.0. An updated version of the class exists in the langchain-openai package and should be used instead. To use it run `pip install -U langchain-openai` and import as `from langchain_openai import ChatOpenAI`.\n",
      "  warn_deprecated(\n"
     ]
    }
   ],
   "source": [
    "llm = ChatOpenAI(model_name=\"gpt-3.5-turbo\", temperature=0)"
   ]
  },
  {
   "cell_type": "code",
   "execution_count": 4,
   "metadata": {},
   "outputs": [
    {
     "data": {
      "text/plain": [
       "'/Users/dhavalantala/Desktop/langchain/langchain'"
      ]
     },
     "execution_count": 4,
     "metadata": {},
     "output_type": "execute_result"
    }
   ],
   "source": [
    "pwd"
   ]
  },
  {
   "cell_type": "code",
   "execution_count": 5,
   "metadata": {},
   "outputs": [],
   "source": [
    "from langchain.document_loaders import DirectoryLoader\n",
    "\n",
    "pdf_loader = DirectoryLoader('./data', glob=\"**/*.pdf\")\n",
    "readme_loader = DirectoryLoader('./data', glob=\"**/*.md\")\n",
    "txt_loader = DirectoryLoader('./data', glob=\"**/*.txt\")"
   ]
  },
  {
   "cell_type": "code",
   "execution_count": 6,
   "metadata": {},
   "outputs": [
    {
     "data": {
      "text/plain": [
       "['human-nutrition-text.pdf']"
      ]
     },
     "execution_count": 6,
     "metadata": {},
     "output_type": "execute_result"
    }
   ],
   "source": [
    "os.listdir(\"./data\")"
   ]
  },
  {
   "cell_type": "code",
   "execution_count": 7,
   "metadata": {},
   "outputs": [
    {
     "name": "stderr",
     "output_type": "stream",
     "text": [
      "[nltk_data] Downloading package punkt to\n",
      "[nltk_data]     /Users/dhavalantala/nltk_data...\n",
      "[nltk_data]   Unzipping tokenizers/punkt.zip.\n",
      "[nltk_data] Downloading package averaged_perceptron_tagger to\n",
      "[nltk_data]     /Users/dhavalantala/nltk_data...\n",
      "[nltk_data]   Unzipping taggers/averaged_perceptron_tagger.zip.\n"
     ]
    }
   ],
   "source": [
    "loaders = [pdf_loader, readme_loader, txt_loader]\n",
    "\n",
    "#lets create document \n",
    "documents = []\n",
    "for loader in loaders:\n",
    "    documents.extend(loader.load())"
   ]
  },
  {
   "cell_type": "code",
   "execution_count": 8,
   "metadata": {},
   "outputs": [
    {
     "name": "stdout",
     "output_type": "stream",
     "text": [
      "You have 1 document(s) in your data\n",
      "There are 7823 characters in your document\n"
     ]
    }
   ],
   "source": [
    "print (f'You have {len(documents)} document(s) in your data')\n",
    "print (f'There are {len(documents[0].page_content)} characters in your document')"
   ]
  },
  {
   "cell_type": "code",
   "execution_count": 9,
   "metadata": {},
   "outputs": [
    {
     "data": {
      "text/plain": [
       "Document(page_content='Introduction\\n\\nUNIVERSITY OF HAWAI‘I AT MĀNOA FOOD SCIENCE AND HUMAN NUTRITION PROGRAM AND HUMAN NUTRITION PROGRAM\\n\\nʻO ke kahua ma mua, ma hope ke kūkulu\\n\\nThe foundation comes first, then the building\\n\\nImage by Jim Hollyer / CC BY 4.0\\n\\nIntroduction | 3\\n\\nLearning Objectives\\n\\nBy the end of this chapter, you will be able to:\\n\\n\\n\\nDescribe basic concepts in nutrition\\n\\n\\n\\nDescribe factors that affect your nutritional needs\\n\\n\\n\\nDescribe the importance of research and scientific\\n\\nmethods to understanding nutrition\\n\\nWhat are Nutrients?\\n\\nThe foods we eat contain nutrients. Nutrients are substances\\n\\nrequired by the body to perform its basic functions. Nutrients must\\n\\nbe obtained from our diet, since the human body does not\\n\\nsynthesize or produce them. Nutrients have one or more of three\\n\\nbasic functions: they provide energy, contribute to body structure,\\n\\nand/or regulate chemical processes in the body. These basic\\n\\nfunctions allow us to detect and respond to environmental\\n\\nsurroundings, move, excrete wastes, respire (breathe), grow, and\\n\\nreproduce. There are six classes of nutrients required for the body\\n\\nto function and maintain overall health. These are carbohydrates,\\n\\nlipids, proteins, water, vitamins, and minerals. Foods also contain\\n\\nnon-nutrients that may be harmful (such as natural toxins common\\n\\nin plant foods and additives like some dyes and preservatives) or\\n\\nbeneficial (such as antioxidants).\\n\\n4 | Introduction\\n\\nMacronutrients\\n\\nNutrients\\n\\nthat are needed\\n\\nin\\n\\nlarge amounts are called\\n\\nmacronutrients. There are three classes of macronutrients:\\n\\ncarbohydrates, lipids, and proteins. These can be metabolically\\n\\nprocessed into cellular energy. The energy from macronutrients\\n\\ncomes from their chemical bonds. This chemical energy is\\n\\nconverted into cellular energy that is then utilized to perform work,\\n\\nallowing our bodies to conduct their basic functions. A unit of\\n\\nmeasurement of food energy is the calorie. On nutrition food labels\\n\\nthe amount given for “calories” is actually equivalent to each calorie\\n\\nmultiplied by one thousand. A kilocalorie (one thousand calories,\\n\\ndenoted with a small “c”) is synonymous with the “Calorie” (with a\\n\\ncapital “C”) on nutrition food labels. Water is also a macronutrient in\\n\\nthe sense that you require a large amount of it, but unlike the other\\n\\nmacronutrients, it does not yield calories.\\n\\nCarbohydrates\\n\\nCarbohydrates are molecules composed of carbon, hydrogen, and\\n\\noxygen. The major food sources of carbohydrates are grains, milk,\\n\\nfruits, and starchy vegetables, like potatoes. Non-starchy vegetables\\n\\nalso contain carbohydrates, but in lesser quantities. Carbohydrates\\n\\nare broadly classified into two forms based on their chemical\\n\\nstructure: simple carbohydrates, often called simple sugars; and\\n\\ncomplex carbohydrates.\\n\\nSimple carbohydrates consist of one or two basic units. Examples\\n\\nof simple sugars include sucrose, the type of sugar you would have\\n\\nin a bowl on the breakfast table, and glucose, the type of sugar that\\n\\ncirculates in your blood.\\n\\nComplex carbohydrates are long chains of simple sugars that can\\n\\nbe unbranched or branched. During digestion, the body breaks\\n\\nIntroduction | 5\\n\\ndown digestible complex carbohydrates to simple sugars, mostly\\n\\nglucose. Glucose is then transported to all our cells where it is\\n\\nstored, used to make energy, or used to build macromolecules. Fiber\\n\\nis also a complex carbohydrate, but it cannot be broken down by\\n\\ndigestive enzymes in the human intestine. As a result, it passes\\n\\nthrough the digestive tract undigested unless the bacteria that\\n\\ninhabit the colon or large intestine break it down.\\n\\nOne gram of digestible carbohydrates yields four kilocalories of\\n\\nenergy for the cells in the body to perform work. In addition to\\n\\nproviding energy and serving as building blocks for bigger\\n\\nmacromolecules, carbohydrates are essential for proper functioning\\n\\nof the nervous system, heart, and kidneys. As mentioned, glucose\\n\\ncan be stored in the body for future use. In humans, the storage\\n\\nmolecule of carbohydrates is called glycogen, and in plants, it is\\n\\nknown as starch. Glycogen and starch are complex carbohydrates.\\n\\nLipids\\n\\nLipids are also a family of molecules composed of carbon, hydrogen,\\n\\nand oxygen, but unlike carbohydrates, they are insoluble in water.\\n\\nLipids are found predominantly in butter, oils, meats, dairy\\n\\nproducts, nuts, and seeds, and in many processed foods. The three\\n\\nmain\\n\\ntypes of\\n\\nlipids\\n\\nare\\n\\ntriglycerides\\n\\n(triacylglycerols),\\n\\nphospholipids, and sterols. The main job of lipids is to provide or\\n\\nstore energy. Lipids provide more energy per gram than\\n\\ncarbohydrates (nine kilocalories per gram of lipids versus four\\n\\nkilocalories per gram of carbohydrates). In addition to energy\\n\\nstorage, lipids serve as a major component of cell membranes,\\n\\nsurround and protect organs (in fat-storing tissues), provide\\n\\ninsulation to aid in temperature regulation, and regulate many other\\n\\nfunctions in the body.\\n\\n6 | Introduction\\n\\nProteins\\n\\nProteins are macromolecules composed of chains of subunits called\\n\\namino acids. Amino acids are simple subunits composed of carbon,\\n\\noxygen, hydrogen, and nitrogen. Food sources of proteins include\\n\\nmeats, dairy products, seafood, and a variety of different plant-\\n\\nbased foods, most notably soy. The word protein comes from a\\n\\nGreek word meaning “of primary importance,” which is an apt\\n\\ndescription of these macronutrients; they are also known\\n\\ncolloquially as the “workhorses” of life. Proteins provide four\\n\\nkilocalories of energy per gram; however providing energy is not\\n\\nprotein’s most important function. Proteins provide structure to\\n\\nbones, muscles and skin, and play a role in conducting most of the\\n\\nchemical reactions that take place in the body. Scientists estimate\\n\\nthat greater than one-hundred thousand different proteins exist\\n\\nwithin the human body. The genetic codes in DNA are basically\\n\\nprotein recipes that determine the order in which 20 different\\n\\namino acids are bound together to make thousands of specific\\n\\nproteins.\\n\\nFigure 1.1 The Macronutrients: Carbohydrates, Lipids, Protein, and\\n\\nWater\\n\\nFigure 1.1 The Macronutrie nts: Carbohydrat es, Lipids, Protein, and Water\\n\\nIntroduction | 7\\n\\nWater\\n\\nThere is one other nutrient that we must have in large quantities:\\n\\nwater. Water does not contain carbon, but is composed of two\\n\\nhydrogens and one oxygen per molecule of water. More than 60\\n\\npercent of your total body weight is water. Without it, nothing could\\n\\nbe transported in or out of the body, chemical reactions would not\\n\\noccur, organs would not be cushioned, and body temperature would\\n\\nfluctuate widely. On average, an adult consumes just over two liters\\n\\nof water per day from food and drink combined. Since water is so\\n\\ncritical for life’s basic processes, the amount of water input and\\n\\noutput is supremely important, a topic we will explore in detail in\\n\\nChapter 4.\\n\\nMicronutrients\\n\\nMicronutrients are nutrients required by the body in lesser\\n\\namounts, but are still essential for carrying out bodily functions.\\n\\nMicronutrients include all the essential minerals and vitamins.\\n\\nThere are sixteen essential minerals and thirteen vitamins (See\\n\\nTable 1.1 “Minerals and Their Major Functions” and Table 1.2\\n\\n“Vitamins and Their Major Functions” for a complete list and their\\n\\nmajor functions). In contrast to carbohydrates, lipids, and proteins,\\n\\nmicronutrients are not sources of energy (calories), but they assist\\n\\nin the process as cofactors or components of enzymes (i.e.,\\n\\ncoenzymes). Enzymes are proteins that catalyze chemical reactions\\n\\nin the body and are involved in all aspects of body functions from\\n\\nproducing\\n\\nenergy,\\n\\nto digesting nutrients,\\n\\nto\\n\\nbuilding\\n\\nmacromolecules. Micronutrients play many essential roles in the\\n\\nbody.\\n\\nTable 1.1 Minerals and Their Major Functions\\n\\n8 | Introduction', metadata={'source': 'data/human-nutrition-text.pdf'})"
      ]
     },
     "execution_count": 9,
     "metadata": {},
     "output_type": "execute_result"
    }
   ],
   "source": [
    "documents[0]"
   ]
  },
  {
   "cell_type": "markdown",
   "metadata": {},
   "source": [
    "## Split the text from the documents"
   ]
  },
  {
   "cell_type": "code",
   "execution_count": 11,
   "metadata": {},
   "outputs": [
    {
     "name": "stdout",
     "output_type": "stream",
     "text": [
      "9\n"
     ]
    }
   ],
   "source": [
    "text_splitter = CharacterTextSplitter(chunk_size=1000, chunk_overlap=40) #chunk overlap seems to work better\n",
    "documents = text_splitter.split_documents(documents)\n",
    "print(len(documents))"
   ]
  },
  {
   "cell_type": "markdown",
   "metadata": {},
   "source": [
    "## Embeddings and storing it in Vectorestore"
   ]
  },
  {
   "cell_type": "code",
   "execution_count": 12,
   "metadata": {},
   "outputs": [
    {
     "name": "stderr",
     "output_type": "stream",
     "text": [
      "/Users/dhavalantala/Desktop/langchain/langchainvenv/lib/python3.10/site-packages/langchain_core/_api/deprecation.py:139: LangChainDeprecationWarning: The class `OpenAIEmbeddings` was deprecated in LangChain 0.0.9 and will be removed in 0.3.0. An updated version of the class exists in the langchain-openai package and should be used instead. To use it run `pip install -U langchain-openai` and import as `from langchain_openai import OpenAIEmbeddings`.\n",
      "  warn_deprecated(\n"
     ]
    }
   ],
   "source": [
    "embeddings = OpenAIEmbeddings()"
   ]
  },
  {
   "cell_type": "markdown",
   "metadata": {},
   "source": [
    "#### Using Chroma for storing vectors"
   ]
  },
  {
   "cell_type": "code",
   "execution_count": 14,
   "metadata": {},
   "outputs": [],
   "source": [
    "from langchain.vectorstores import Chroma\n",
    "\n",
    "vectorstore = Chroma.from_documents(documents, embeddings)"
   ]
  },
  {
   "cell_type": "markdown",
   "metadata": {},
   "source": [
    "### Using pinecone for storing vectors"
   ]
  },
  {
   "cell_type": "code",
   "execution_count": 44,
   "metadata": {},
   "outputs": [],
   "source": [
    "import getpass\n",
    "\n",
    "PINECONE_API_KEY = getpass.getpass('Pinecone API Key:')"
   ]
  },
  {
   "cell_type": "code",
   "execution_count": 22,
   "metadata": {},
   "outputs": [],
   "source": [
    "PINECONE_ENV = getpass.getpass('Pinecone Environment:')"
   ]
  },
  {
   "cell_type": "code",
   "execution_count": 49,
   "metadata": {},
   "outputs": [],
   "source": [
    "from langchain_pinecone import PineconeVectorStore\n",
    "from pinecone import Pinecone\n",
    "\n",
    "os.environ['PINECONE_API_KEY'] = \"4f4b7cdb-a795-451e-a1a7-c4ee1696ee48\"\n",
    "\n",
    "index_name = \"langchain-demo\"\n",
    "\n",
    "\n",
    "vectorstore_from_docs = PineconeVectorStore.from_documents(documents, embeddings, index_name=index_name)"
   ]
  },
  {
   "cell_type": "markdown",
   "metadata": {},
   "source": [
    "#### [For Existing Index](https://docs.pinecone.io/integrations/langchain)"
   ]
  },
  {
   "cell_type": "markdown",
   "metadata": {},
   "source": [
    "#### We had 9 documents so there are 9 vectors being created in Pinecone."
   ]
  },
  {
   "cell_type": "code",
   "execution_count": 50,
   "metadata": {},
   "outputs": [],
   "source": [
    "query = \"Who are the authors of gpt4all paper ?\"\n",
    "docs = vectorstore.similarity_search(query)"
   ]
  },
  {
   "cell_type": "code",
   "execution_count": 51,
   "metadata": {},
   "outputs": [
    {
     "data": {
      "text/plain": [
       "4"
      ]
     },
     "execution_count": 51,
     "metadata": {},
     "output_type": "execute_result"
    }
   ],
   "source": [
    "len(docs)"
   ]
  },
  {
   "cell_type": "code",
   "execution_count": 52,
   "metadata": {},
   "outputs": [
    {
     "name": "stdout",
     "output_type": "stream",
     "text": [
      "8 | Introduction\n"
     ]
    }
   ],
   "source": [
    "print(docs[0].page_content)"
   ]
  },
  {
   "cell_type": "markdown",
   "metadata": {},
   "source": [
    "## Now the langchain part (Chaining with Chat History) --> With One line of Code (Fantastic)"
   ]
  },
  {
   "cell_type": "code",
   "execution_count": 53,
   "metadata": {},
   "outputs": [],
   "source": [
    "from langchain.llms import OpenAI"
   ]
  },
  {
   "cell_type": "code",
   "execution_count": 54,
   "metadata": {},
   "outputs": [
    {
     "name": "stderr",
     "output_type": "stream",
     "text": [
      "/Users/dhavalantala/Desktop/langchain/langchainvenv/lib/python3.10/site-packages/langchain_core/_api/deprecation.py:139: LangChainDeprecationWarning: The class `OpenAI` was deprecated in LangChain 0.0.10 and will be removed in 0.3.0. An updated version of the class exists in the langchain-openai package and should be used instead. To use it run `pip install -U langchain-openai` and import as `from langchain_openai import OpenAI`.\n",
      "  warn_deprecated(\n"
     ]
    }
   ],
   "source": [
    "\n",
    "retriever = vectorstore.as_retriever(search_type=\"similarity\", search_kwargs={\"k\":2})\n",
    "qa = ConversationalRetrievalChain.from_llm(OpenAI(temperature=0), retriever)"
   ]
  },
  {
   "cell_type": "code",
   "execution_count": 61,
   "metadata": {},
   "outputs": [
    {
     "data": {
      "text/plain": [
       "' Nutritious means containing the necessary nutrients for a healthy diet.'"
      ]
     },
     "execution_count": 61,
     "metadata": {},
     "output_type": "execute_result"
    }
   ],
   "source": [
    "chat_history = []\n",
    "query = \"What is nutritious ?\"\n",
    "result = qa({\"question\": query, \"chat_history\": chat_history})\n",
    "result[\"answer\"]"
   ]
  },
  {
   "cell_type": "code",
   "execution_count": 62,
   "metadata": {},
   "outputs": [
    {
     "data": {
      "text/plain": [
       "[('What is nutritious ?',\n",
       "  ' Nutritious means containing the necessary nutrients for a healthy diet.')]"
      ]
     },
     "execution_count": 62,
     "metadata": {},
     "output_type": "execute_result"
    }
   ],
   "source": [
    "chat_history.append((query, result[\"answer\"]))\n",
    "chat_history"
   ]
  },
  {
   "cell_type": "code",
   "execution_count": 64,
   "metadata": {},
   "outputs": [
    {
     "data": {
      "text/plain": [
       "\" I don't know. The nutri score of an apple would depend on its size, ripeness, and any added ingredients. It would also depend on the specific scoring system being used to determine the nutri score.\""
      ]
     },
     "execution_count": 64,
     "metadata": {},
     "output_type": "execute_result"
    }
   ],
   "source": [
    "query = \"What is apple nutri score?\"\n",
    "result = qa({\"question\": query, \"chat_history\": chat_history})\n",
    "result[\"answer\"]"
   ]
  },
  {
   "cell_type": "markdown",
   "metadata": {},
   "source": [
    "### Create a chatbot with memory with simple widgets"
   ]
  },
  {
   "cell_type": "code",
   "execution_count": 59,
   "metadata": {},
   "outputs": [],
   "source": [
    "from IPython.display import display\n",
    "import ipywidgets as widgets"
   ]
  },
  {
   "cell_type": "code",
   "execution_count": 60,
   "metadata": {},
   "outputs": [
    {
     "name": "stdout",
     "output_type": "stream",
     "text": [
      "Chat with your data. Type 'exit' to stop\n"
     ]
    },
    {
     "name": "stderr",
     "output_type": "stream",
     "text": [
      "/var/folders/m8/xhbf16sj00b_px7r2lbh9dlr0000gn/T/ipykernel_70399/3869868923.py:20: DeprecationWarning: on_submit is deprecated. Instead, set the .continuous_update attribute to False and observe the value changing with: mywidget.observe(callback, 'value').\n",
      "  input_box.on_submit(on_submit)\n"
     ]
    },
    {
     "data": {
      "application/vnd.jupyter.widget-view+json": {
       "model_id": "1663d445e5694bc19879a9803c58e518",
       "version_major": 2,
       "version_minor": 0
      },
      "text/plain": [
       "Text(value='', placeholder='Please enter your question:')"
      ]
     },
     "metadata": {},
     "output_type": "display_data"
    },
    {
     "data": {
      "application/vnd.jupyter.widget-view+json": {
       "model_id": "1d0d6260732840f2aa5d062a3d05510c",
       "version_major": 2,
       "version_minor": 0
      },
      "text/plain": [
       "HTML(value='User: What is nutritious ?')"
      ]
     },
     "metadata": {},
     "output_type": "display_data"
    },
    {
     "data": {
      "application/vnd.jupyter.widget-view+json": {
       "model_id": "b6779dc1cada4ccdbdd539ee746c2d63",
       "version_major": 2,
       "version_minor": 0
      },
      "text/plain": [
       "HTML(value='Chatbot:  Nutritious means containing the necessary nutrients for a healthy diet.')"
      ]
     },
     "metadata": {},
     "output_type": "display_data"
    }
   ],
   "source": [
    "\n",
    "chat_history = []\n",
    "\n",
    "def on_submit(_):\n",
    "    query = input_box.value\n",
    "    input_box.value = \"\"\n",
    "    \n",
    "    if query.lower() == 'exit':\n",
    "        print(\"Thanks for the chat!\")\n",
    "        return\n",
    "    \n",
    "    result = qa({\"question\": query, \"chat_history\": chat_history})\n",
    "    chat_history.append((query, result['answer']))\n",
    "    \n",
    "    display(widgets.HTML(f'User: {query}'))\n",
    "    display(widgets.HTML(f'Chatbot: {result[\"answer\"]}'))\n",
    "\n",
    "print(\"Chat with your data. Type 'exit' to stop\")\n",
    "\n",
    "input_box = widgets.Text(placeholder='Please enter your question:')\n",
    "input_box.on_submit(on_submit)\n",
    "\n",
    "display(input_box)"
   ]
  },
  {
   "cell_type": "markdown",
   "metadata": {},
   "source": [
    "## Gradio Part (Building the chatbot like UI)\n",
    "Gradio sample example"
   ]
  },
  {
   "cell_type": "code",
   "execution_count": 65,
   "metadata": {},
   "outputs": [
    {
     "name": "stdout",
     "output_type": "stream",
     "text": [
      "Running on local URL:  http://127.0.0.1:7861\n",
      "Running on public URL: https://ddc89e140b42315f64.gradio.live\n",
      "\n",
      "This share link expires in 72 hours. For free permanent hosting and GPU upgrades, run `gradio deploy` from Terminal to deploy to Spaces (https://huggingface.co/spaces)\n"
     ]
    },
    {
     "data": {
      "text/html": [
       "<div><iframe src=\"https://ddc89e140b42315f64.gradio.live\" width=\"100%\" height=\"500\" allow=\"autoplay; camera; microphone; clipboard-read; clipboard-write;\" frameborder=\"0\" allowfullscreen></iframe></div>"
      ],
      "text/plain": [
       "<IPython.core.display.HTML object>"
      ]
     },
     "metadata": {},
     "output_type": "display_data"
    },
    {
     "name": "stdout",
     "output_type": "stream",
     "text": [
      "What is nutritious ?\n",
      "[]\n",
      "[('What is nutritious ?', 'I love you')]\n",
      "What is nutritions?\n",
      "[['What is nutritious ?', 'I love you']]\n",
      "[['What is nutritious ?', 'I love you'], ('What is nutritions?', 'How are you?')]\n",
      "what is apple nutri score?\n",
      "[['What is nutritious ?', 'I love you'], ['What is nutritions?', 'How are you?']]\n",
      "[['What is nutritious ?', 'I love you'], ['What is nutritions?', 'How are you?'], ('what is apple nutri score?', 'I love you')]\n",
      "Keyboard interruption in main thread... closing server.\n",
      "Killing tunnel 127.0.0.1:7861 <> https://ddc89e140b42315f64.gradio.live\n"
     ]
    },
    {
     "data": {
      "text/plain": []
     },
     "execution_count": 65,
     "metadata": {},
     "output_type": "execute_result"
    }
   ],
   "source": [
    "import gradio as gr\n",
    "import random\n",
    "\n",
    "with gr.Blocks() as demo:\n",
    "    chatbot = gr.Chatbot()\n",
    "    msg = gr.Textbox()\n",
    "    clear = gr.Button(\"Clear\")\n",
    "\n",
    "    def respond(message, chat_history):\n",
    "        print(message)\n",
    "        print(chat_history)\n",
    "        bot_message = random.choice([\"How are you?\", \"I love you\", \"I'm very hungry\"])\n",
    "        chat_history.append((message, bot_message))\n",
    "        print(chat_history)\n",
    "        return \"\", chat_history\n",
    "\n",
    "    msg.submit(respond, [msg, chatbot], [msg, chatbot])\n",
    "    clear.click(lambda: None, None, chatbot, queue=False)\n",
    "\n",
    "demo.launch(debug=True, share=True)"
   ]
  },
  {
   "cell_type": "code",
   "execution_count": null,
   "metadata": {},
   "outputs": [],
   "source": []
  }
 ],
 "metadata": {
  "kernelspec": {
   "display_name": "Python 3",
   "language": "python",
   "name": "python3"
  },
  "language_info": {
   "codemirror_mode": {
    "name": "ipython",
    "version": 3
   },
   "file_extension": ".py",
   "mimetype": "text/x-python",
   "name": "python",
   "nbconvert_exporter": "python",
   "pygments_lexer": "ipython3",
   "version": "3.1.-1"
  }
 },
 "nbformat": 4,
 "nbformat_minor": 2
}
